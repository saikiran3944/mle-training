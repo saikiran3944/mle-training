{
 "cells": [
  {
   "cell_type": "code",
   "execution_count": 14,
   "id": "34d70eaf",
   "metadata": {},
   "outputs": [],
   "source": [
    "import mlflow\n",
    "import pandas as pd\n",
    "import numpy as np\n",
    "from sklearn.linear_model import LinearRegression\n",
    "from sklearn.model_selection import train_test_split\n",
    "from sklearn.metrics import mean_squared_error, mean_absolute_error, r2_score\n",
    "import warnings"
   ]
  },
  {
   "cell_type": "code",
   "execution_count": 15,
   "id": "fd459ff0",
   "metadata": {},
   "outputs": [],
   "source": [
    "remote_server_uri = \"http://127.0.0.1:8080\"\n",
    "mlflow.set_tracking_uri(remote_server_uri)"
   ]
  },
  {
   "cell_type": "code",
   "execution_count": 5,
   "id": "202dcbaa",
   "metadata": {},
   "outputs": [
    {
     "data": {
      "text/plain": [
       "'http://127.0.0.1:8080'"
      ]
     },
     "execution_count": 5,
     "metadata": {},
     "output_type": "execute_result"
    }
   ],
   "source": [
    "mlflow.tracking.get_tracking_uri()"
   ]
  },
  {
   "cell_type": "code",
   "execution_count": 16,
   "id": "ede6718e",
   "metadata": {},
   "outputs": [
    {
     "name": "stdout",
     "output_type": "stream",
     "text": [
      "Linear Regression  model:\n",
      "  RMSE: 0.5919929314031497\n",
      "  MAE: 0.4278697585966107\n",
      "  R2: 0.64733757899314\n",
      "Save to: /home/saikiran/mle-training/mlruns/0/d69f7646082646868d818b78c17d3fb9/artifacts\n",
      "parent run:\n",
      "run_id: 343eb671e13848b7bc2fe45700ae3def\n",
      "description: Data Preprocessing\n",
      "version tag value: v1\n",
      "priority tag value: P1\n"
     ]
    }
   ],
   "source": [
    "# Define evaluation metrics function\n",
    "def eval_metrics(actual, pred):\n",
    "    rmse = np.sqrt(mean_squared_error(actual, pred))\n",
    "    mae = mean_absolute_error(actual, pred)\n",
    "    r2 = r2_score(actual, pred)\n",
    "    return rmse, mae, r2\n",
    "\n",
    "# Define data loading function\n",
    "def load_data(data_path):\n",
    "    data = pd.read_csv(data_path)\n",
    "    train, test = train_test_split(data, test_size=0.25, random_state=42)\n",
    "    train_x = train.drop([\"median_house_value\"], axis=1)\n",
    "    test_x = test.drop([\"median_house_value\"], axis=1)\n",
    "    train_y = train[[\"median_house_value\"]]\n",
    "    test_y = test[[\"median_house_value\"]]\n",
    "    return train_x, train_y, test_x, test_y\n",
    "\n",
    "# Create experiment and start the parent run\n",
    "experiment_id = mlflow.create_experiment(\"Housing_Price_Linear_Regression\")\n",
    "with mlflow.start_run(run_name=\"Linear_Regression_PR\", experiment_id=experiment_id,\n",
    "                      tags={\"version\": \"v1\", \"priority\": \"P1\"}, description=\"Data Preprocessing\") as parent_run:\n",
    "    # Data preprocessing\n",
    "    dh = pd.read_csv(\"../datasets/housing/housing.csv\")\n",
    "    # Perform preprocessing steps here...\n",
    "\n",
    "    # Load and split data\n",
    "    warnings.filterwarnings(\"ignore\")\n",
    "    np.random.seed(40)\n",
    "    data_path = \"../datasets/housing/housing_clean.csv\"\n",
    "    train_x, train_y, test_x, test_y = load_data(data_path)\n",
    "    mlflow.log_param(\"Data Split\", \"yes\")\n",
    "\n",
    "    # Start child run for modeling\n",
    "    with mlflow.start_run(run_name=\"MODELLING\", nested=True, description=\"Modelling\"):\n",
    "        # Model training and evaluation\n",
    "        lr = LinearRegression()\n",
    "        lr.fit(train_x, train_y)\n",
    "\n",
    "        # Evaluate Metrics\n",
    "        predicted_qualities = lr.predict(test_x)\n",
    "        rmse, mae, r2 = eval_metrics(test_y, predicted_qualities)\n",
    "\n",
    "        # Log metrics and artifacts\n",
    "        print(\"Linear Regression  model:\")\n",
    "        print(\"  RMSE: %s\" % rmse)\n",
    "        print(\"  MAE: %s\" % mae)\n",
    "        print(\"  R2: %s\" % r2)\n",
    "        mlflow.log_metric(\"rmse\", rmse)\n",
    "        mlflow.log_metrics({\"mae\": mae, \"r2\": r2})\n",
    "        mlflow.log_artifact(data_path)\n",
    "        print(\"Save to: {}\".format(mlflow.get_artifact_uri()))\n",
    "        mlflow.sklearn.log_model(lr, \"model\")\n",
    "        mlflow.log_param(\"Modelling\", \"yes\")\n",
    "\n",
    "    # Start child run for child specific logging\n",
    "    with mlflow.start_run(run_name=\"CHILD_RUN\", nested=True, description=\"child\"):\n",
    "        mlflow.log_param(\"child_1\", \"yes\")\n",
    "\n",
    "# Print parent run details\n",
    "print(\"parent run:\")\n",
    "print(\"run_id: {}\".format(parent_run.info.run_id))\n",
    "print(\"description: {}\".format(parent_run.data.tags.get(\"mlflow.note.content\")))\n",
    "print(\"version tag value: {}\".format(parent_run.data.tags.get(\"version\")))\n",
    "print(\"priority tag value: {}\".format(parent_run.data.tags.get(\"priority\")))\n"
   ]
  }
 ],
 "metadata": {
  "kernelspec": {
   "display_name": "Python 3 (ipykernel)",
   "language": "python",
   "name": "python3"
  },
  "language_info": {
   "codemirror_mode": {
    "name": "ipython",
    "version": 3
   },
   "file_extension": ".py",
   "mimetype": "text/x-python",
   "name": "python",
   "nbconvert_exporter": "python",
   "pygments_lexer": "ipython3",
   "version": "3.9.12"
  }
 },
 "nbformat": 4,
 "nbformat_minor": 5
}
